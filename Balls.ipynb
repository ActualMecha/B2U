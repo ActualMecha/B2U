{
 "cells": [
  {
   "cell_type": "code",
   "execution_count": 2,
   "metadata": {},
   "outputs": [],
   "source": [
    "import collections\n",
    "\n",
    "Upgrade = collections.namedtuple('Upgrade', ['cost', 'apply'])\n",
    "Ball = collections.namedtuple('Ball', ['color', 'cost', 'delay', 'costUpgrade', 'speedUpgrade'])\n",
    "Level = collections.namedtuple('Level', ['modifier'])\n",
    "\n",
    "def speedUpgrade(cost, increase):\n",
    "    return Upgrade(cost = cost, \n",
    "                   apply = lambda ball :\n",
    "                       ball._replace(delay = ball.delay - increase))\n",
    "\n",
    "def costUpgrade(cost, increase):\n",
    "    return Upgrade(cost = cost,\n",
    "                   apply = lambda ball : \n",
    "                       ball._replace(cost = ball.cost + increase))\n",
    "\n",
    "def incomeRate(ball):\n",
    "    return ball.cost / ball.delay\n",
    "\n",
    "def totalIncome(levels, ball):\n",
    "    return incomeRate(ball) * sum(level.modifier for level in levels)\n",
    "\n",
    "levels = [\n",
    "    Level(1.77),\n",
    "    Level(0.6),\n",
    "    Level(0.44)\n",
    "]"
   ]
  },
  {
   "cell_type": "code",
   "execution_count": 5,
   "metadata": {},
   "outputs": [],
   "source": [
    "ball = Ball(color='red', \n",
    "            cost=1764, \n",
    "            delay=1.787,\n",
    "            costUpgrade = costUpgrade(1.84e6, 84),\n",
    "            speedUpgrade = speedUpgrade(349_700, 0.054))"
   ]
  },
  {
   "cell_type": "code",
   "execution_count": 6,
   "metadata": {},
   "outputs": [
    {
     "data": {
      "text/plain": [
       "2773.833240067152"
      ]
     },
     "execution_count": 6,
     "metadata": {},
     "output_type": "execute_result"
    }
   ],
   "source": [
    "totalIncome(levels, ball)"
   ]
  }
 ],
 "metadata": {
  "kernelspec": {
   "display_name": "Python 3",
   "language": "python",
   "name": "python3"
  },
  "language_info": {
   "codemirror_mode": {
    "name": "ipython",
    "version": 3
   },
   "file_extension": ".py",
   "mimetype": "text/x-python",
   "name": "python",
   "nbconvert_exporter": "python",
   "pygments_lexer": "ipython3",
   "version": "3.6.7"
  }
 },
 "nbformat": 4,
 "nbformat_minor": 2
}
